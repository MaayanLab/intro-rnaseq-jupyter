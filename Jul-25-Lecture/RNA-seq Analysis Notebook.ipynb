{
 "cells": [
  {
   "cell_type": "markdown",
   "metadata": {
    "collapsed": true
   },
   "source": [
    "# RNA-seq Analysis Notebook\n",
    "## Overview\n",
    "This notebook contains a guided walkthrough to building a simple pipeline for analysis of an RNA-seq dataset.\n",
    "\n",
    "The pipeline described here consists of the following steps:\n",
    "1. **Download** an RNA-seq dataset (ARCHS4)\n",
    "2. **Normalize expression** data (Variance Stabilizing Transformation)\n",
    "3. Perform **Dimensionality Reduction** (PCA and t-SNE)\n",
    "4. Visualize the dataset as a **clustered heatmap** (Clustergrammer)\n",
    "5. Perform **Differential Gene Expression Analysis** (limma and CD)\n",
    "6. Perform **Enrichment analysis** (Enrichr)\n",
    "\n",
    "## Load Packages"
   ]
  },
  {
   "cell_type": "code",
   "execution_count": 1,
   "metadata": {
    "collapsed": true
   },
   "outputs": [],
   "source": [
    "%%capture\n",
    "# Python packages\n",
    "import sys\n",
    "import rpy2\n",
    "import numpy as np\n",
    "from plotly.offline import init_notebook_mode\n",
    "\n",
    "# Initialize Plotly and R magic\n",
    "%load_ext rpy2.ipython\n",
    "%R require(limma)\n",
    "%R require(edgeR)\n",
    "\n",
    "# Custom scripts\n",
    "sys.path.append('scripts')\n",
    "import archs4\n",
    "from plots import *\n",
    "from signature import *"
   ]
  },
  {
   "cell_type": "code",
   "execution_count": 2,
   "metadata": {},
   "outputs": [
    {
     "name": "stderr",
     "output_type": "stream",
     "text": [
      "IOPub data rate exceeded.\n",
      "The notebook server will temporarily stop sending output\n",
      "to the client in order to avoid crashing it.\n",
      "To change this limit, set the config variable\n",
      "`--NotebookApp.iopub_data_rate_limit`.\n"
     ]
    }
   ],
   "source": [
    "# Activate Plotly\n",
    "init_notebook_mode()\n",
    "\n",
    "# Set display option for pandas\n",
    "pd.set_option('max_colwidth', -1)"
   ]
  },
  {
   "cell_type": "markdown",
   "metadata": {},
   "source": [
    "## 1. Download RNA-seq Dataset\n",
    "Here we download RNA-seq datasets processed by ARCHS4.\n",
    "\n",
    "The following datasets are suggested:\n",
    "* **Nucleotide stress induction of HEXIM1 suppresses melanoma by modulating cancer cell-specific gene transcription** (GSE68053_GPL16791)\n",
    "* **Potent and targeted activation of HIV-1 using the CRISPR/Cas9 activator Complex** (GSE72259_GPL16791)\n",
    "* **EZH2 and BCL6 cooperate to assemble CBX8-BCOR Polycomb complex to repress bivalent promoters, mediate germinal center formation and promote lymphomagenesis** (GSE73109_GPL11154)\n",
    "* **HEB associates with PRC2 and SMAD2/3 to regulate developmental fates** (GSE60285_GPL13112)\n",
    "* **EGFR Mutation Promotes Glioblastoma Through Epigenome and Transcription Factor Network Remodeling** (GSE72468_GPL11154)\n",
    "* **OSKM induce extraembryonic endoderm stem (iXEN) cells in parallel to iPS cells** (GSE77550_GPL17021)\n",
    "\n",
    "A full list of datasets processed by ARCHS4 is available in the *archs4_datasets.txt* file."
   ]
  },
  {
   "cell_type": "code",
   "execution_count": 5,
   "metadata": {},
   "outputs": [
    {
     "data": {
      "text/html": [
       "<div>\n",
       "<style>\n",
       "    .dataframe thead tr:only-child th {\n",
       "        text-align: right;\n",
       "    }\n",
       "\n",
       "    .dataframe thead th {\n",
       "        text-align: left;\n",
       "    }\n",
       "\n",
       "    .dataframe tbody tr th {\n",
       "        vertical-align: top;\n",
       "    }\n",
       "</style>\n",
       "<table border=\"1\" class=\"dataframe\">\n",
       "  <thead>\n",
       "    <tr style=\"text-align: right;\">\n",
       "      <th></th>\n",
       "      <th>GSM1866102</th>\n",
       "      <th>GSM1866103</th>\n",
       "      <th>GSM1866104</th>\n",
       "      <th>GSM1866105</th>\n",
       "      <th>GSM1866106</th>\n",
       "      <th>GSM1866107</th>\n",
       "      <th>GSM1866108</th>\n",
       "      <th>GSM1866109</th>\n",
       "      <th>GSM1866110</th>\n",
       "      <th>GSM1866111</th>\n",
       "      <th>GSM1866112</th>\n",
       "      <th>GSM1866113</th>\n",
       "      <th>GSM1866114</th>\n",
       "      <th>GSM1866115</th>\n",
       "      <th>GSM1866138</th>\n",
       "    </tr>\n",
       "    <tr>\n",
       "      <th>ID_REF</th>\n",
       "      <th></th>\n",
       "      <th></th>\n",
       "      <th></th>\n",
       "      <th></th>\n",
       "      <th></th>\n",
       "      <th></th>\n",
       "      <th></th>\n",
       "      <th></th>\n",
       "      <th></th>\n",
       "      <th></th>\n",
       "      <th></th>\n",
       "      <th></th>\n",
       "      <th></th>\n",
       "      <th></th>\n",
       "      <th></th>\n",
       "    </tr>\n",
       "  </thead>\n",
       "  <tbody>\n",
       "    <tr>\n",
       "      <th>A1BG</th>\n",
       "      <td>305</td>\n",
       "      <td>364</td>\n",
       "      <td>183</td>\n",
       "      <td>380</td>\n",
       "      <td>238</td>\n",
       "      <td>431</td>\n",
       "      <td>39</td>\n",
       "      <td>44</td>\n",
       "      <td>18</td>\n",
       "      <td>31</td>\n",
       "      <td>128</td>\n",
       "      <td>178</td>\n",
       "      <td>112</td>\n",
       "      <td>142</td>\n",
       "      <td>257</td>\n",
       "    </tr>\n",
       "    <tr>\n",
       "      <th>A1CF</th>\n",
       "      <td>3</td>\n",
       "      <td>4</td>\n",
       "      <td>18</td>\n",
       "      <td>30</td>\n",
       "      <td>27</td>\n",
       "      <td>29</td>\n",
       "      <td>4</td>\n",
       "      <td>10</td>\n",
       "      <td>7</td>\n",
       "      <td>10</td>\n",
       "      <td>8</td>\n",
       "      <td>9</td>\n",
       "      <td>28</td>\n",
       "      <td>8</td>\n",
       "      <td>12</td>\n",
       "    </tr>\n",
       "    <tr>\n",
       "      <th>A2M</th>\n",
       "      <td>35171</td>\n",
       "      <td>38511</td>\n",
       "      <td>3156</td>\n",
       "      <td>4621</td>\n",
       "      <td>19654</td>\n",
       "      <td>4531</td>\n",
       "      <td>1</td>\n",
       "      <td>1</td>\n",
       "      <td>27</td>\n",
       "      <td>32</td>\n",
       "      <td>0</td>\n",
       "      <td>0</td>\n",
       "      <td>0</td>\n",
       "      <td>1</td>\n",
       "      <td>7718</td>\n",
       "    </tr>\n",
       "    <tr>\n",
       "      <th>A2ML1</th>\n",
       "      <td>646</td>\n",
       "      <td>545</td>\n",
       "      <td>112</td>\n",
       "      <td>90</td>\n",
       "      <td>82</td>\n",
       "      <td>306</td>\n",
       "      <td>5</td>\n",
       "      <td>2</td>\n",
       "      <td>0</td>\n",
       "      <td>5</td>\n",
       "      <td>5</td>\n",
       "      <td>5</td>\n",
       "      <td>7</td>\n",
       "      <td>12</td>\n",
       "      <td>95</td>\n",
       "    </tr>\n",
       "    <tr>\n",
       "      <th>A2MP1</th>\n",
       "      <td>19</td>\n",
       "      <td>10</td>\n",
       "      <td>14</td>\n",
       "      <td>11</td>\n",
       "      <td>26</td>\n",
       "      <td>22</td>\n",
       "      <td>0</td>\n",
       "      <td>0</td>\n",
       "      <td>1</td>\n",
       "      <td>1</td>\n",
       "      <td>0</td>\n",
       "      <td>0</td>\n",
       "      <td>0</td>\n",
       "      <td>2</td>\n",
       "      <td>38</td>\n",
       "    </tr>\n",
       "  </tbody>\n",
       "</table>\n",
       "</div>"
      ],
      "text/plain": [
       "        GSM1866102  GSM1866103  GSM1866104  GSM1866105  GSM1866106  \\\n",
       "ID_REF                                                               \n",
       "A1BG    305         364         183         380         238          \n",
       "A1CF    3           4           18          30          27           \n",
       "A2M     35171       38511       3156        4621        19654        \n",
       "A2ML1   646         545         112         90          82           \n",
       "A2MP1   19          10          14          11          26           \n",
       "\n",
       "        GSM1866107  GSM1866108  GSM1866109  GSM1866110  GSM1866111  \\\n",
       "ID_REF                                                               \n",
       "A1BG    431         39          44          18          31           \n",
       "A1CF    29          4           10          7           10           \n",
       "A2M     4531        1           1           27          32           \n",
       "A2ML1   306         5           2           0           5            \n",
       "A2MP1   22          0           0           1           1            \n",
       "\n",
       "        GSM1866112  GSM1866113  GSM1866114  GSM1866115  GSM1866138  \n",
       "ID_REF                                                              \n",
       "A1BG    128         178         112         142         257         \n",
       "A1CF    8           9           28          8           12          \n",
       "A2M     0           0           0           1           7718        \n",
       "A2ML1   5           5           7           12          95          \n",
       "A2MP1   0           0           0           2           38          "
      ]
     },
     "execution_count": 5,
     "metadata": {},
     "output_type": "execute_result"
    }
   ],
   "source": [
    "# Fetch dataset from ARCHS4 server.  Insert code specified in brackets to extract specified dataset\n",
    "reload(archs4)\n",
    "rawcount_dataframe, sample_titles = archs4.fetch_dataset('GSE72468_GPL11154')\n",
    "rawcount_dataframe.head()"
   ]
  },
  {
   "cell_type": "code",
   "execution_count": 6,
   "metadata": {},
   "outputs": [
    {
     "data": {
      "text/html": [
       "<div>\n",
       "<style>\n",
       "    .dataframe thead tr:only-child th {\n",
       "        text-align: right;\n",
       "    }\n",
       "\n",
       "    .dataframe thead th {\n",
       "        text-align: left;\n",
       "    }\n",
       "\n",
       "    .dataframe tbody tr th {\n",
       "        vertical-align: top;\n",
       "    }\n",
       "</style>\n",
       "<table border=\"1\" class=\"dataframe\">\n",
       "  <thead>\n",
       "    <tr style=\"text-align: right;\">\n",
       "      <th></th>\n",
       "      <th>GSM1866102</th>\n",
       "      <th>GSM1866103</th>\n",
       "      <th>GSM1866104</th>\n",
       "      <th>GSM1866105</th>\n",
       "      <th>GSM1866106</th>\n",
       "      <th>GSM1866107</th>\n",
       "      <th>GSM1866108</th>\n",
       "      <th>GSM1866109</th>\n",
       "      <th>GSM1866110</th>\n",
       "      <th>GSM1866111</th>\n",
       "      <th>GSM1866112</th>\n",
       "      <th>GSM1866113</th>\n",
       "      <th>GSM1866114</th>\n",
       "      <th>GSM1866115</th>\n",
       "      <th>GSM1866138</th>\n",
       "    </tr>\n",
       "    <tr>\n",
       "      <th>ID_REF</th>\n",
       "      <th></th>\n",
       "      <th></th>\n",
       "      <th></th>\n",
       "      <th></th>\n",
       "      <th></th>\n",
       "      <th></th>\n",
       "      <th></th>\n",
       "      <th></th>\n",
       "      <th></th>\n",
       "      <th></th>\n",
       "      <th></th>\n",
       "      <th></th>\n",
       "      <th></th>\n",
       "      <th></th>\n",
       "      <th></th>\n",
       "    </tr>\n",
       "  </thead>\n",
       "  <tbody>\n",
       "    <tr>\n",
       "      <th>A1BG</th>\n",
       "      <td>305</td>\n",
       "      <td>364</td>\n",
       "      <td>183</td>\n",
       "      <td>380</td>\n",
       "      <td>238</td>\n",
       "      <td>431</td>\n",
       "      <td>39</td>\n",
       "      <td>44</td>\n",
       "      <td>18</td>\n",
       "      <td>31</td>\n",
       "      <td>128</td>\n",
       "      <td>178</td>\n",
       "      <td>112</td>\n",
       "      <td>142</td>\n",
       "      <td>257</td>\n",
       "    </tr>\n",
       "    <tr>\n",
       "      <th>A1CF</th>\n",
       "      <td>3</td>\n",
       "      <td>4</td>\n",
       "      <td>18</td>\n",
       "      <td>30</td>\n",
       "      <td>27</td>\n",
       "      <td>29</td>\n",
       "      <td>4</td>\n",
       "      <td>10</td>\n",
       "      <td>7</td>\n",
       "      <td>10</td>\n",
       "      <td>8</td>\n",
       "      <td>9</td>\n",
       "      <td>28</td>\n",
       "      <td>8</td>\n",
       "      <td>12</td>\n",
       "    </tr>\n",
       "    <tr>\n",
       "      <th>A2M</th>\n",
       "      <td>35171</td>\n",
       "      <td>38511</td>\n",
       "      <td>3156</td>\n",
       "      <td>4621</td>\n",
       "      <td>19654</td>\n",
       "      <td>4531</td>\n",
       "      <td>1</td>\n",
       "      <td>1</td>\n",
       "      <td>27</td>\n",
       "      <td>32</td>\n",
       "      <td>0</td>\n",
       "      <td>0</td>\n",
       "      <td>0</td>\n",
       "      <td>1</td>\n",
       "      <td>7718</td>\n",
       "    </tr>\n",
       "    <tr>\n",
       "      <th>A2ML1</th>\n",
       "      <td>646</td>\n",
       "      <td>545</td>\n",
       "      <td>112</td>\n",
       "      <td>90</td>\n",
       "      <td>82</td>\n",
       "      <td>306</td>\n",
       "      <td>5</td>\n",
       "      <td>2</td>\n",
       "      <td>0</td>\n",
       "      <td>5</td>\n",
       "      <td>5</td>\n",
       "      <td>5</td>\n",
       "      <td>7</td>\n",
       "      <td>12</td>\n",
       "      <td>95</td>\n",
       "    </tr>\n",
       "    <tr>\n",
       "      <th>A2MP1</th>\n",
       "      <td>19</td>\n",
       "      <td>10</td>\n",
       "      <td>14</td>\n",
       "      <td>11</td>\n",
       "      <td>26</td>\n",
       "      <td>22</td>\n",
       "      <td>0</td>\n",
       "      <td>0</td>\n",
       "      <td>1</td>\n",
       "      <td>1</td>\n",
       "      <td>0</td>\n",
       "      <td>0</td>\n",
       "      <td>0</td>\n",
       "      <td>2</td>\n",
       "      <td>38</td>\n",
       "    </tr>\n",
       "  </tbody>\n",
       "</table>\n",
       "</div>"
      ],
      "text/plain": [
       "        GSM1866102  GSM1866103  GSM1866104  GSM1866105  GSM1866106  \\\n",
       "ID_REF                                                               \n",
       "A1BG    305         364         183         380         238          \n",
       "A1CF    3           4           18          30          27           \n",
       "A2M     35171       38511       3156        4621        19654        \n",
       "A2ML1   646         545         112         90          82           \n",
       "A2MP1   19          10          14          11          26           \n",
       "\n",
       "        GSM1866107  GSM1866108  GSM1866109  GSM1866110  GSM1866111  \\\n",
       "ID_REF                                                               \n",
       "A1BG    431         39          44          18          31           \n",
       "A1CF    29          4           10          7           10           \n",
       "A2M     4531        1           1           27          32           \n",
       "A2ML1   306         5           2           0           5            \n",
       "A2MP1   22          0           0           1           1            \n",
       "\n",
       "        GSM1866112  GSM1866113  GSM1866114  GSM1866115  GSM1866138  \n",
       "ID_REF                                                              \n",
       "A1BG    128         178         112         142         257         \n",
       "A1CF    8           9           28          8           12          \n",
       "A2M     0           0           0           1           7718        \n",
       "A2ML1   5           5           7           12          95          \n",
       "A2MP1   0           0           0           2           38          "
      ]
     },
     "execution_count": 6,
     "metadata": {},
     "output_type": "execute_result"
    }
   ],
   "source": [
    "# Display the raw readcount dataframe\n",
    "rawcount_dataframe.head()"
   ]
  },
  {
   "cell_type": "code",
   "execution_count": 7,
   "metadata": {},
   "outputs": [
    {
     "data": {
      "text/plain": [
       "{'GSM1866102': 'RNAseq_GBM_2493.RZY317 (GSM1866102)',\n",
       " 'GSM1866103': 'RNAseq_GBM_2585.RZY318 (GSM1866103)',\n",
       " 'GSM1866104': 'RNAseq_GBM_B39.RZY305 (GSM1866104)',\n",
       " 'GSM1866105': 'RNAseq_GBM_P69.RZY308 (GSM1866105)',\n",
       " 'GSM1866106': 'RNAseq_GBM_R28.RZY306 (GSM1866106)',\n",
       " 'GSM1866107': 'RNAseq_GBM_S08.RZY307 (GSM1866107)',\n",
       " 'GSM1866108': 'RNAseq_U87EGFRvIII_shFOXG1_1_withFBS.FL180 (GSM1866108)',\n",
       " 'GSM1866109': 'RNAseq_U87EGFRvIII_shFOXG1_1_withoutFBS.FL181 (GSM1866109)',\n",
       " 'GSM1866110': 'RNAseq_U87EGFRvIII_shSOX9_1_withFBS.FL182 (GSM1866110)',\n",
       " 'GSM1866111': 'RNAseq_U87EGFRvIII_shSOX9_1_withoutFBS.FL183 (GSM1866111)',\n",
       " 'GSM1866112': 'RNAseq_U87EGFRvIII_withFBS.RZY278 (GSM1866112)',\n",
       " 'GSM1866113': 'RNAseq_U87EGFRvIII_withoutFBS.RZY277 (GSM1866113)',\n",
       " 'GSM1866114': 'RNAseq_U87_withFBS.RZY276 (GSM1866114)',\n",
       " 'GSM1866115': 'RNAseq_U87_withoutFBS.RZY275 (GSM1866115)',\n",
       " 'GSM1866138': 'RNAseq_GBM_IDHmut-5661 (GSM1866138)'}"
      ]
     },
     "execution_count": 7,
     "metadata": {},
     "output_type": "execute_result"
    }
   ],
   "source": [
    "# Display the sample titles\n",
    "sample_titles"
   ]
  },
  {
   "cell_type": "markdown",
   "metadata": {},
   "source": [
    "## 2. Normalization\n",
    "\n",
    "Before proceeding with the analysis, we normalize the raw readcount dataset using the **voom** (voom) method, from the *limma* package in R."
   ]
  },
  {
   "cell_type": "code",
   "execution_count": null,
   "metadata": {
    "scrolled": false
   },
   "outputs": [],
   "source": [
    "# Push the dataset to R\n",
    "%Rpush rawcount_dataframe\n",
    "\n",
    "# Normalize\n",
    "%R voom_dataframe <- as.data.frame(voom(as.matrix(rawcount_dataframe)))\n",
    "\n",
    "# Pull the dataset from R\n",
    "%Rpull voom_dataframe\n",
    "\n",
    "# Display\n",
    "voom_dataframe.head()"
   ]
  },
  {
   "cell_type": "markdown",
   "metadata": {},
   "source": [
    "## 3. Dimensionality Reduction\n",
    "\n",
    "### 3.1 PCA\n",
    "First, we perform a **Principal Components Analysis** (PCA) on the dataset, reducing it to two or three dimensions.  To achieve this, use the PCA function in the Python package *sklearn* - reference code is available at http://scikit-learn.org/stable/modules/generated/sklearn.decomposition.PCA.html."
   ]
  },
  {
   "cell_type": "code",
   "execution_count": null,
   "metadata": {},
   "outputs": [],
   "source": [
    "# Insert code to perform PCA here\n",
    "from sklearn.decomposition import PCA\n",
    "pca = PCA(n_components=3)\n",
    "pca.fit(voom_dataframe)"
   ]
  },
  {
   "cell_type": "code",
   "execution_count": null,
   "metadata": {},
   "outputs": [],
   "source": [
    "# Display components\n",
    "pca.components_"
   ]
  },
  {
   "cell_type": "code",
   "execution_count": null,
   "metadata": {},
   "outputs": [],
   "source": [
    "# Plot using one of the following functions\n",
    "# plot_2d_scatter(x, y)\n",
    "plot_3d_scatter(x = pca.components_[0],\n",
    "                y = pca.components_[1],\n",
    "                z = pca.components_[2],\n",
    "                color_by=sample_metadata_dataframe['condition'].tolist(),\n",
    "                text=[sample_titles[x] for x in sample_metadata_dataframe.index],\n",
    "                xlab = 'PC1 ({:.2%} var. explained)'.format(pca.explained_variance_ratio_[0]),\n",
    "                ylab = 'PC1 ({:.2%} var. explained)'.format(pca.explained_variance_ratio_[1]),\n",
    "                zlab = 'PC1 ({:.2%} var. explained)'.format(pca.explained_variance_ratio_[2]),\n",
    "                title= '3D PCA')"
   ]
  },
  {
   "cell_type": "markdown",
   "metadata": {},
   "source": [
    "### 3.2 t-SNE\n",
    "Second, we perform **t-Distributed Stochastic Neighbor Embedding** (t-SNE) on the dataset, reducing it to two or three dimensions.  To achieve this, use the tsne function in the Python package *sklearn* - reference code is available at http://scikit-learn.org/stable/modules/generated/sklearn.manifold.TSNE.html."
   ]
  },
  {
   "cell_type": "code",
   "execution_count": null,
   "metadata": {
    "collapsed": true
   },
   "outputs": [],
   "source": [
    "# Insert code to perform t-SNE here"
   ]
  },
  {
   "cell_type": "code",
   "execution_count": null,
   "metadata": {
    "collapsed": true
   },
   "outputs": [],
   "source": [
    "# Plot"
   ]
  },
  {
   "cell_type": "markdown",
   "metadata": {},
   "source": [
    "## 4. Clustergrammer\n",
    "Next, we generate an **interactive clustered heatmap** to explore the most variable genes in the dataset.  To achieve this, we use the *Clustergrammer* package - reference code is available at http://clustergrammer.readthedocs.io/clustergrammer_widget.html#clustergrammer-widget-workflow-example."
   ]
  },
  {
   "cell_type": "code",
   "execution_count": null,
   "metadata": {
    "collapsed": true
   },
   "outputs": [],
   "source": [
    "# Insert code to create widget here\n",
    "# Steps: (1) create Network object, (2) load dataframe\n",
    "#        (3) Z-score normalize the rows, (4) filter top 500 genes by variance\n",
    "#        (5) cluster the heatmap, (6) display the widget\n"
   ]
  },
  {
   "cell_type": "markdown",
   "metadata": {},
   "source": [
    "## 5. Differential Expression Analysis\n",
    "Here we identify **Differentially Expressed Genes** (DEGs) using two approaches: limma and Characteristic Direction.  \n",
    "\n",
    "To achieve this, we need to select two sets of samples:\n",
    "* a group of *experimental / treated samples*\n",
    "* a second group of *control / untreated samples*\n",
    "\n",
    "### 1. limma\n",
    "First, we perform the analysis using the *limma* R package.  Reference here https://bioconductor.org/packages/release/bioc/html/limma.html."
   ]
  },
  {
   "cell_type": "code",
   "execution_count": null,
   "metadata": {
    "collapsed": true
   },
   "outputs": [],
   "source": [
    "# Set experimental design\n",
    "experimental_samples = []\n",
    "control_samples = []"
   ]
  },
  {
   "cell_type": "code",
   "execution_count": null,
   "metadata": {
    "collapsed": true
   },
   "outputs": [],
   "source": [
    "# Run limma using a Python wrapper\n",
    "limma_dataframe = compute_signature(rawcount_dataframe,\n",
    "                                    method = 'limma',\n",
    "                                    experimental_samples = experimental_samples,\n",
    "                                    control_samples = control_samples)"
   ]
  },
  {
   "cell_type": "code",
   "execution_count": null,
   "metadata": {
    "collapsed": true
   },
   "outputs": [],
   "source": [
    "# Explore results\n",
    "limma_dataframe.head()"
   ]
  },
  {
   "cell_type": "markdown",
   "metadata": {},
   "source": [
    "##### Volcano Plot\n",
    "The Volcano plot is a common way to display results of a differential gene expression analysis.  It displays logFC on the x axis and log10(P-value) on the Y axis."
   ]
  },
  {
   "cell_type": "code",
   "execution_count": null,
   "metadata": {
    "collapsed": true
   },
   "outputs": [],
   "source": [
    "# Create a volcano plot using the following function:\n",
    "# plot_2d_scatter(x, y)"
   ]
  },
  {
   "cell_type": "markdown",
   "metadata": {},
   "source": [
    "##### MA Plot\n",
    "The MA plot is a second common way to display results of a differential gene expression analysis.  It displays average normalized expression on the x axis and logFC on the Y axis."
   ]
  },
  {
   "cell_type": "code",
   "execution_count": null,
   "metadata": {
    "collapsed": true
   },
   "outputs": [],
   "source": [
    "# Create a MA plot using the following function:\n",
    "# plot_2d_scatter(x, y)"
   ]
  },
  {
   "cell_type": "markdown",
   "metadata": {},
   "source": [
    "### 2. Characteristic Direction\n",
    "Second, we calculate a differential gene expression signature using the *Characteristic Direction* method, which has been shown to outperform other methods to identify DEGs in the context of transcription factor (TF) and drug perturbation responses (Clark et al, 2013, [link](https://bmcbioinformatics.biomedcentral.com/articles/10.1186/1471-2105-15-79))."
   ]
  },
  {
   "cell_type": "code",
   "execution_count": null,
   "metadata": {
    "collapsed": true
   },
   "outputs": [],
   "source": [
    "# Run CD using a Python wrapper\n",
    "cd_dataframe = compute_signature(rawcount_dataframe,\n",
    "                                 method = 'CD',\n",
    "                                 experimental_samples = experimental_samples,\n",
    "                                 control_samples = control_samples)"
   ]
  },
  {
   "cell_type": "code",
   "execution_count": null,
   "metadata": {
    "collapsed": true
   },
   "outputs": [],
   "source": [
    "# Explore results\n",
    "cd_dataframe.head()"
   ]
  },
  {
   "cell_type": "markdown",
   "metadata": {},
   "source": [
    "## 6. Enrichment Analysis\n",
    "We now use the differential gene expression signature computed with CD and perform **enrichment analysis** on the top most overexpressed and underexpressed genes using the *Enrichr* API.\n",
    "\n",
    "Reference on how to use the API in Python here http://amp.pharm.mssm.edu/Enrichr/help#api."
   ]
  },
  {
   "cell_type": "markdown",
   "metadata": {},
   "source": [
    "##### 6.1 Calculate Upregulated and Downregulated genesets"
   ]
  },
  {
   "cell_type": "code",
   "execution_count": null,
   "metadata": {
    "collapsed": true
   },
   "outputs": [],
   "source": [
    "# Write code to extract gene lists for enrichment analysis\n",
    "# Steps: (1) sort the genes by the CD value, (2) take the top 500 top and bottom genes"
   ]
  },
  {
   "cell_type": "markdown",
   "metadata": {},
   "source": [
    "##### 6.2 Upload genesets to Enrichr using API"
   ]
  },
  {
   "cell_type": "code",
   "execution_count": null,
   "metadata": {
    "collapsed": true
   },
   "outputs": [],
   "source": [
    "# Upload genesets to Enrichr as shown in the manual."
   ]
  },
  {
   "cell_type": "markdown",
   "metadata": {},
   "source": [
    "Once the gene list has been submitted, you can view the enrichment results by appending the 'shortId' at the end of the following URL: http://amp.pharm.mssm.edu/Enrichr/enrich?dataset=."
   ]
  },
  {
   "cell_type": "markdown",
   "metadata": {},
   "source": [
    "## 7. Small Molecole Query\n",
    "Finally, we use the differential gene expression signature computed with CD to identify **small molecules which mimic or reverse** the observed pattern using the *L1000CDS<sup>2</sup>* API.\n",
    "\n",
    "Reference on how to use the API in Python here http://amp.pharm.mssm.edu/L1000CDS2/help/#api."
   ]
  },
  {
   "cell_type": "code",
   "execution_count": null,
   "metadata": {
    "collapsed": true
   },
   "outputs": [],
   "source": [
    "# Upload genesets to L1000CDS2 as shown in the manual (gene-set search example)."
   ]
  },
  {
   "cell_type": "markdown",
   "metadata": {},
   "source": [
    "Once the gene list has been submitted, you can view the results by appending the 'shareId' at the end of the following URL: http://amp.pharm.mssm.edu/L1000CDS2/#/result/."
   ]
  }
 ],
 "metadata": {
  "kernelspec": {
   "display_name": "Python 2",
   "language": "python",
   "name": "python2"
  },
  "language_info": {
   "codemirror_mode": {
    "name": "ipython",
    "version": 2
   },
   "file_extension": ".py",
   "mimetype": "text/x-python",
   "name": "python",
   "nbconvert_exporter": "python",
   "pygments_lexer": "ipython2",
   "version": "2.7.10"
  }
 },
 "nbformat": 4,
 "nbformat_minor": 2
}
