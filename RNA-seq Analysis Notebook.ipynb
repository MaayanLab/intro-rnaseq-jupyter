{
 "cells": [
  {
   "cell_type": "markdown",
   "metadata": {
    "collapsed": true
   },
   "source": [
    "# RNA-seq Analysis Notebook\n",
    "## Overview\n",
    "This notebook contains a guided walkthrough to building a simple pipeline for analysis of an RNA-seq dataset.\n",
    "\n",
    "The pipeline described here consists of the following steps:\n",
    "1. **Download** an RNA-seq dataset (ARCHS4)\n",
    "2. **Normalize expression** data (Variance Stabilizing Transformation)\n",
    "3. Perform **Dimensionality Reduction** (PCA and t-SNE)\n",
    "4. Visualize the dataset as a **clustered heatmap** (Clustergrammer)\n",
    "5. Perform **Differential Gene Expression Analysis** (limma and CD)\n",
    "6. Perform **Enrichment analysis** (Enrichr)\n",
    "\n",
    "## Load Packages"
   ]
  },
  {
   "cell_type": "code",
   "execution_count": 1,
   "metadata": {
    "collapsed": true
   },
   "outputs": [],
   "source": [
    "%%capture\n",
    "# Python packages\n",
    "import sys\n",
    "import rpy2\n",
    "import numpy as np\n",
    "from plotly.offline import init_notebook_mode\n",
    "\n",
    "# Initialize Plotly and R magic\n",
    "init_notebook_mode()\n",
    "%load_ext rpy2.ipython\n",
    "%R require(DESeq2)\n",
    "%R require(limma)\n",
    "\n",
    "# Custom scripts\n",
    "sys.path.append('scripts')\n",
    "import archs4\n",
    "from plots import *\n",
    "from signature import *"
   ]
  },
  {
   "cell_type": "markdown",
   "metadata": {},
   "source": [
    "## 1. Download RNA-seq Dataset\n",
    "Here we download RNA-seq datasets processed by ARCHS4.\n",
    "\n",
    "The following datasets are suggested:\n",
    "* *Homo sapiens* datasets:\n",
    "    * **Nucleotide stress induction of HEXIM1 suppresses melanoma by modulating cancer cell-specific gene transcription** (GSE68053_GPL16791)\n",
    "    * **Potent and targeted activation of HIV-1 using the CRISPR/Cas9 activator Complex** (GSE72259_GPL16791)\n",
    "    * **EZH2 and BCL6 cooperate to assemble CBX8-BCOR Polycomb complex to repress bivalent promoters, mediate germinal center formation and promote lymphomagenesis** (GSE73109_GPL11154)\n",
    "    \n",
    "   \n",
    "* *Mus musculus* datasets:\n",
    "    * **HEB associates with PRC2 and SMAD2/3 to regulate developmental fates** (GSE60285_GPL13112)\n",
    "    * **Transcriptomic signatures uncover gene expression differences associated with the development of phenotypic differences in serial organs** (GSE76316_GPL13112)\n",
    "    * **OSKM induce extraembryonic endoderm stem (iXEN) cells in parallel to iPS cells** (GSE77550_GPL17021)\n",
    "\n",
    "A full list of datasets processed by ARCHS4 is available in the *archs4_datasets.txt* file."
   ]
  },
  {
   "cell_type": "code",
   "execution_count": 3,
   "metadata": {},
   "outputs": [],
   "source": [
    "# Fetch dataset from ARCHS4 server.  Insert code specified in brackets to extract specified dataset\n",
    "rawcount_dataframe, sample_metadata_dataframe = archs4.fetch_dataset('GSE73109_GPL11154')"
   ]
  },
  {
   "cell_type": "code",
   "execution_count": 4,
   "metadata": {},
   "outputs": [
    {
     "data": {
      "text/html": [
       "<div>\n",
       "<style>\n",
       "    .dataframe thead tr:only-child th {\n",
       "        text-align: right;\n",
       "    }\n",
       "\n",
       "    .dataframe thead th {\n",
       "        text-align: left;\n",
       "    }\n",
       "\n",
       "    .dataframe tbody tr th {\n",
       "        vertical-align: top;\n",
       "    }\n",
       "</style>\n",
       "<table border=\"1\" class=\"dataframe\">\n",
       "  <thead>\n",
       "    <tr style=\"text-align: right;\">\n",
       "      <th></th>\n",
       "      <th>GSM1886845</th>\n",
       "      <th>GSM1886846</th>\n",
       "      <th>GSM1886847</th>\n",
       "      <th>GSM1886848</th>\n",
       "      <th>GSM1886849</th>\n",
       "      <th>GSM1886850</th>\n",
       "      <th>GSM1886851</th>\n",
       "      <th>GSM1886852</th>\n",
       "      <th>GSM1886853</th>\n",
       "      <th>GSM1886854</th>\n",
       "      <th>GSM1886855</th>\n",
       "      <th>GSM1886856</th>\n",
       "      <th>GSM1886857</th>\n",
       "      <th>GSM1886858</th>\n",
       "      <th>GSM1886859</th>\n",
       "      <th>GSM1886860</th>\n",
       "      <th>GSM1886861</th>\n",
       "      <th>GSM1886862</th>\n",
       "    </tr>\n",
       "    <tr>\n",
       "      <th>ID_REF</th>\n",
       "      <th></th>\n",
       "      <th></th>\n",
       "      <th></th>\n",
       "      <th></th>\n",
       "      <th></th>\n",
       "      <th></th>\n",
       "      <th></th>\n",
       "      <th></th>\n",
       "      <th></th>\n",
       "      <th></th>\n",
       "      <th></th>\n",
       "      <th></th>\n",
       "      <th></th>\n",
       "      <th></th>\n",
       "      <th></th>\n",
       "      <th></th>\n",
       "      <th></th>\n",
       "      <th></th>\n",
       "    </tr>\n",
       "  </thead>\n",
       "  <tbody>\n",
       "    <tr>\n",
       "      <th>A1BG</th>\n",
       "      <td>214</td>\n",
       "      <td>239</td>\n",
       "      <td>96</td>\n",
       "      <td>131</td>\n",
       "      <td>164</td>\n",
       "      <td>63</td>\n",
       "      <td>340</td>\n",
       "      <td>305</td>\n",
       "      <td>320</td>\n",
       "      <td>194</td>\n",
       "      <td>152</td>\n",
       "      <td>212</td>\n",
       "      <td>254</td>\n",
       "      <td>304</td>\n",
       "      <td>224</td>\n",
       "      <td>174</td>\n",
       "      <td>161</td>\n",
       "      <td>157</td>\n",
       "    </tr>\n",
       "    <tr>\n",
       "      <th>A1CF</th>\n",
       "      <td>2</td>\n",
       "      <td>2</td>\n",
       "      <td>1</td>\n",
       "      <td>3</td>\n",
       "      <td>2</td>\n",
       "      <td>0</td>\n",
       "      <td>5</td>\n",
       "      <td>4</td>\n",
       "      <td>1</td>\n",
       "      <td>1</td>\n",
       "      <td>4</td>\n",
       "      <td>2</td>\n",
       "      <td>3</td>\n",
       "      <td>0</td>\n",
       "      <td>2</td>\n",
       "      <td>2</td>\n",
       "      <td>6</td>\n",
       "      <td>0</td>\n",
       "    </tr>\n",
       "    <tr>\n",
       "      <th>A2M</th>\n",
       "      <td>2</td>\n",
       "      <td>1</td>\n",
       "      <td>0</td>\n",
       "      <td>4</td>\n",
       "      <td>0</td>\n",
       "      <td>0</td>\n",
       "      <td>2</td>\n",
       "      <td>2</td>\n",
       "      <td>0</td>\n",
       "      <td>1</td>\n",
       "      <td>1</td>\n",
       "      <td>1</td>\n",
       "      <td>3</td>\n",
       "      <td>8</td>\n",
       "      <td>2</td>\n",
       "      <td>9</td>\n",
       "      <td>6</td>\n",
       "      <td>5</td>\n",
       "    </tr>\n",
       "    <tr>\n",
       "      <th>A2ML1</th>\n",
       "      <td>4</td>\n",
       "      <td>7</td>\n",
       "      <td>2</td>\n",
       "      <td>12</td>\n",
       "      <td>9</td>\n",
       "      <td>6</td>\n",
       "      <td>3</td>\n",
       "      <td>4</td>\n",
       "      <td>4</td>\n",
       "      <td>13</td>\n",
       "      <td>3</td>\n",
       "      <td>12</td>\n",
       "      <td>14</td>\n",
       "      <td>11</td>\n",
       "      <td>8</td>\n",
       "      <td>17</td>\n",
       "      <td>10</td>\n",
       "      <td>6</td>\n",
       "    </tr>\n",
       "    <tr>\n",
       "      <th>A2MP1</th>\n",
       "      <td>2</td>\n",
       "      <td>2</td>\n",
       "      <td>2</td>\n",
       "      <td>0</td>\n",
       "      <td>0</td>\n",
       "      <td>0</td>\n",
       "      <td>8</td>\n",
       "      <td>12</td>\n",
       "      <td>5</td>\n",
       "      <td>0</td>\n",
       "      <td>4</td>\n",
       "      <td>1</td>\n",
       "      <td>2</td>\n",
       "      <td>3</td>\n",
       "      <td>1</td>\n",
       "      <td>4</td>\n",
       "      <td>1</td>\n",
       "      <td>2</td>\n",
       "    </tr>\n",
       "  </tbody>\n",
       "</table>\n",
       "</div>"
      ],
      "text/plain": [
       "        GSM1886845  GSM1886846  GSM1886847  GSM1886848  GSM1886849  \\\n",
       "ID_REF                                                               \n",
       "A1BG           214         239          96         131         164   \n",
       "A1CF             2           2           1           3           2   \n",
       "A2M              2           1           0           4           0   \n",
       "A2ML1            4           7           2          12           9   \n",
       "A2MP1            2           2           2           0           0   \n",
       "\n",
       "        GSM1886850  GSM1886851  GSM1886852  GSM1886853  GSM1886854  \\\n",
       "ID_REF                                                               \n",
       "A1BG            63         340         305         320         194   \n",
       "A1CF             0           5           4           1           1   \n",
       "A2M              0           2           2           0           1   \n",
       "A2ML1            6           3           4           4          13   \n",
       "A2MP1            0           8          12           5           0   \n",
       "\n",
       "        GSM1886855  GSM1886856  GSM1886857  GSM1886858  GSM1886859  \\\n",
       "ID_REF                                                               \n",
       "A1BG           152         212         254         304         224   \n",
       "A1CF             4           2           3           0           2   \n",
       "A2M              1           1           3           8           2   \n",
       "A2ML1            3          12          14          11           8   \n",
       "A2MP1            4           1           2           3           1   \n",
       "\n",
       "        GSM1886860  GSM1886861  GSM1886862  \n",
       "ID_REF                                      \n",
       "A1BG           174         161         157  \n",
       "A1CF             2           6           0  \n",
       "A2M              9           6           5  \n",
       "A2ML1           17          10           6  \n",
       "A2MP1            4           1           2  "
      ]
     },
     "execution_count": 4,
     "metadata": {},
     "output_type": "execute_result"
    }
   ],
   "source": [
    "# Display the raw readcount dataframe\n",
    "rawcount_dataframe.head()"
   ]
  },
  {
   "cell_type": "code",
   "execution_count": 5,
   "metadata": {},
   "outputs": [
    {
     "data": {
      "text/html": [
       "<div>\n",
       "<style>\n",
       "    .dataframe thead tr:only-child th {\n",
       "        text-align: right;\n",
       "    }\n",
       "\n",
       "    .dataframe thead th {\n",
       "        text-align: left;\n",
       "    }\n",
       "\n",
       "    .dataframe tbody tr th {\n",
       "        vertical-align: top;\n",
       "    }\n",
       "</style>\n",
       "<table border=\"1\" class=\"dataframe\">\n",
       "  <thead>\n",
       "    <tr style=\"text-align: right;\">\n",
       "      <th></th>\n",
       "      <th>cell line</th>\n",
       "      <th>treatment</th>\n",
       "    </tr>\n",
       "  </thead>\n",
       "  <tbody>\n",
       "    <tr>\n",
       "      <th>GSM1886845</th>\n",
       "      <td>SUDHL6</td>\n",
       "      <td>treated with DMSO for 12h</td>\n",
       "    </tr>\n",
       "    <tr>\n",
       "      <th>GSM1886846</th>\n",
       "      <td>SUDHL6</td>\n",
       "      <td>treated with DMSO for 12h</td>\n",
       "    </tr>\n",
       "    <tr>\n",
       "      <th>GSM1886847</th>\n",
       "      <td>SUDHL6</td>\n",
       "      <td>treated with DMSO for 12h</td>\n",
       "    </tr>\n",
       "    <tr>\n",
       "      <th>GSM1886848</th>\n",
       "      <td>SUDHL6</td>\n",
       "      <td>treated with 10uM 79-6.1085 for 12h</td>\n",
       "    </tr>\n",
       "    <tr>\n",
       "      <th>GSM1886849</th>\n",
       "      <td>SUDHL6</td>\n",
       "      <td>treated with 10uM 79-6.1085 for 12h</td>\n",
       "    </tr>\n",
       "    <tr>\n",
       "      <th>GSM1886850</th>\n",
       "      <td>SUDHL6</td>\n",
       "      <td>treated with 10uM 79-6.1085 for 12h</td>\n",
       "    </tr>\n",
       "    <tr>\n",
       "      <th>GSM1886851</th>\n",
       "      <td>Farage</td>\n",
       "      <td>treated with DMSO for 12h</td>\n",
       "    </tr>\n",
       "    <tr>\n",
       "      <th>GSM1886852</th>\n",
       "      <td>Farage</td>\n",
       "      <td>treated with DMSO for 12h</td>\n",
       "    </tr>\n",
       "    <tr>\n",
       "      <th>GSM1886853</th>\n",
       "      <td>Farage</td>\n",
       "      <td>treated with DMSO for 12h</td>\n",
       "    </tr>\n",
       "    <tr>\n",
       "      <th>GSM1886854</th>\n",
       "      <td>Farage</td>\n",
       "      <td>treated with 10uM 79-6.1085 for 12h</td>\n",
       "    </tr>\n",
       "    <tr>\n",
       "      <th>GSM1886855</th>\n",
       "      <td>Farage</td>\n",
       "      <td>treated with 10uM 79-6.1085 for 12h</td>\n",
       "    </tr>\n",
       "    <tr>\n",
       "      <th>GSM1886856</th>\n",
       "      <td>Farage</td>\n",
       "      <td>treated with 10uM 79-6.1085 for 12h</td>\n",
       "    </tr>\n",
       "    <tr>\n",
       "      <th>GSM1886857</th>\n",
       "      <td>SUDHL4</td>\n",
       "      <td>treated with DMSO for 12h</td>\n",
       "    </tr>\n",
       "    <tr>\n",
       "      <th>GSM1886858</th>\n",
       "      <td>SUDHL4</td>\n",
       "      <td>treated with DMSO for 12h</td>\n",
       "    </tr>\n",
       "    <tr>\n",
       "      <th>GSM1886859</th>\n",
       "      <td>SUDHL4</td>\n",
       "      <td>treated with DMSO for 12h</td>\n",
       "    </tr>\n",
       "    <tr>\n",
       "      <th>GSM1886860</th>\n",
       "      <td>SUDHL4</td>\n",
       "      <td>treated with 10uM 79-6.1085 for 12h</td>\n",
       "    </tr>\n",
       "    <tr>\n",
       "      <th>GSM1886861</th>\n",
       "      <td>SUDHL4</td>\n",
       "      <td>treated with 10uM 79-6.1085 for 12h</td>\n",
       "    </tr>\n",
       "    <tr>\n",
       "      <th>GSM1886862</th>\n",
       "      <td>SUDHL4</td>\n",
       "      <td>treated with 10uM 79-6.1085 for 12h</td>\n",
       "    </tr>\n",
       "  </tbody>\n",
       "</table>\n",
       "</div>"
      ],
      "text/plain": [
       "           cell line                            treatment\n",
       "GSM1886845    SUDHL6            treated with DMSO for 12h\n",
       "GSM1886846    SUDHL6            treated with DMSO for 12h\n",
       "GSM1886847    SUDHL6            treated with DMSO for 12h\n",
       "GSM1886848    SUDHL6  treated with 10uM 79-6.1085 for 12h\n",
       "GSM1886849    SUDHL6  treated with 10uM 79-6.1085 for 12h\n",
       "GSM1886850    SUDHL6  treated with 10uM 79-6.1085 for 12h\n",
       "GSM1886851    Farage            treated with DMSO for 12h\n",
       "GSM1886852    Farage            treated with DMSO for 12h\n",
       "GSM1886853    Farage            treated with DMSO for 12h\n",
       "GSM1886854    Farage  treated with 10uM 79-6.1085 for 12h\n",
       "GSM1886855    Farage  treated with 10uM 79-6.1085 for 12h\n",
       "GSM1886856    Farage  treated with 10uM 79-6.1085 for 12h\n",
       "GSM1886857    SUDHL4            treated with DMSO for 12h\n",
       "GSM1886858    SUDHL4            treated with DMSO for 12h\n",
       "GSM1886859    SUDHL4            treated with DMSO for 12h\n",
       "GSM1886860    SUDHL4  treated with 10uM 79-6.1085 for 12h\n",
       "GSM1886861    SUDHL4  treated with 10uM 79-6.1085 for 12h\n",
       "GSM1886862    SUDHL4  treated with 10uM 79-6.1085 for 12h"
      ]
     },
     "execution_count": 5,
     "metadata": {},
     "output_type": "execute_result"
    }
   ],
   "source": [
    "# Display the sample metadata dataframe\n",
    "sample_metadata_dataframe"
   ]
  },
  {
   "cell_type": "markdown",
   "metadata": {},
   "source": [
    "## 2. Normalization\n",
    "\n",
    "Before proceeding with the analysis, we normalize the raw readcount dataset using the **Variance Stabilizing Transformation** (VST) method, from the *DESeq2* package in R."
   ]
  },
  {
   "cell_type": "code",
   "execution_count": 6,
   "metadata": {
    "scrolled": false
   },
   "outputs": [
    {
     "data": {
      "text/html": [
       "<div>\n",
       "<style>\n",
       "    .dataframe thead tr:only-child th {\n",
       "        text-align: right;\n",
       "    }\n",
       "\n",
       "    .dataframe thead th {\n",
       "        text-align: left;\n",
       "    }\n",
       "\n",
       "    .dataframe tbody tr th {\n",
       "        vertical-align: top;\n",
       "    }\n",
       "</style>\n",
       "<table border=\"1\" class=\"dataframe\">\n",
       "  <thead>\n",
       "    <tr style=\"text-align: right;\">\n",
       "      <th></th>\n",
       "      <th>GSM1886845</th>\n",
       "      <th>GSM1886846</th>\n",
       "      <th>GSM1886847</th>\n",
       "      <th>GSM1886848</th>\n",
       "      <th>GSM1886849</th>\n",
       "      <th>GSM1886850</th>\n",
       "      <th>GSM1886851</th>\n",
       "      <th>GSM1886852</th>\n",
       "      <th>GSM1886853</th>\n",
       "      <th>GSM1886854</th>\n",
       "      <th>GSM1886855</th>\n",
       "      <th>GSM1886856</th>\n",
       "      <th>GSM1886857</th>\n",
       "      <th>GSM1886858</th>\n",
       "      <th>GSM1886859</th>\n",
       "      <th>GSM1886860</th>\n",
       "      <th>GSM1886861</th>\n",
       "      <th>GSM1886862</th>\n",
       "    </tr>\n",
       "  </thead>\n",
       "  <tbody>\n",
       "    <tr>\n",
       "      <th>A1BG</th>\n",
       "      <td>7.432296</td>\n",
       "      <td>7.585719</td>\n",
       "      <td>7.906538</td>\n",
       "      <td>7.114824</td>\n",
       "      <td>7.367192</td>\n",
       "      <td>7.515685</td>\n",
       "      <td>8.004349</td>\n",
       "      <td>7.954705</td>\n",
       "      <td>8.058813</td>\n",
       "      <td>7.339749</td>\n",
       "      <td>7.221488</td>\n",
       "      <td>7.498370</td>\n",
       "      <td>7.767352</td>\n",
       "      <td>7.824397</td>\n",
       "      <td>7.482212</td>\n",
       "      <td>7.441895</td>\n",
       "      <td>7.322329</td>\n",
       "      <td>7.604090</td>\n",
       "    </tr>\n",
       "    <tr>\n",
       "      <th>A1CF</th>\n",
       "      <td>2.175147</td>\n",
       "      <td>2.173957</td>\n",
       "      <td>2.468948</td>\n",
       "      <td>2.640235</td>\n",
       "      <td>2.314552</td>\n",
       "      <td>0.883706</td>\n",
       "      <td>2.790828</td>\n",
       "      <td>2.669106</td>\n",
       "      <td>1.829498</td>\n",
       "      <td>1.826317</td>\n",
       "      <td>2.815022</td>\n",
       "      <td>2.209561</td>\n",
       "      <td>2.488948</td>\n",
       "      <td>0.883706</td>\n",
       "      <td>2.168899</td>\n",
       "      <td>2.310407</td>\n",
       "      <td>3.193082</td>\n",
       "      <td>0.883706</td>\n",
       "    </tr>\n",
       "    <tr>\n",
       "      <th>A2M</th>\n",
       "      <td>2.175147</td>\n",
       "      <td>1.810731</td>\n",
       "      <td>0.883706</td>\n",
       "      <td>2.877175</td>\n",
       "      <td>0.883706</td>\n",
       "      <td>0.883706</td>\n",
       "      <td>2.139604</td>\n",
       "      <td>2.183849</td>\n",
       "      <td>0.883706</td>\n",
       "      <td>1.826317</td>\n",
       "      <td>1.901842</td>\n",
       "      <td>1.837125</td>\n",
       "      <td>2.488948</td>\n",
       "      <td>3.199711</td>\n",
       "      <td>2.168899</td>\n",
       "      <td>3.610595</td>\n",
       "      <td>3.193082</td>\n",
       "      <td>3.233832</td>\n",
       "    </tr>\n",
       "    <tr>\n",
       "      <th>A2ML1</th>\n",
       "      <td>2.657766</td>\n",
       "      <td>3.141300</td>\n",
       "      <td>3.035112</td>\n",
       "      <td>3.985136</td>\n",
       "      <td>3.617270</td>\n",
       "      <td>4.364832</td>\n",
       "      <td>2.400114</td>\n",
       "      <td>2.669106</td>\n",
       "      <td>2.689196</td>\n",
       "      <td>3.813224</td>\n",
       "      <td>2.583887</td>\n",
       "      <td>3.751074</td>\n",
       "      <td>3.932969</td>\n",
       "      <td>3.518760</td>\n",
       "      <td>3.261509</td>\n",
       "      <td>4.332729</td>\n",
       "      <td>3.716329</td>\n",
       "      <td>3.414973</td>\n",
       "    </tr>\n",
       "    <tr>\n",
       "      <th>A2MP1</th>\n",
       "      <td>2.175147</td>\n",
       "      <td>2.173957</td>\n",
       "      <td>3.035112</td>\n",
       "      <td>0.883706</td>\n",
       "      <td>0.883706</td>\n",
       "      <td>0.883706</td>\n",
       "      <td>3.213892</td>\n",
       "      <td>3.705472</td>\n",
       "      <td>2.874809</td>\n",
       "      <td>0.883706</td>\n",
       "      <td>2.815022</td>\n",
       "      <td>1.837125</td>\n",
       "      <td>2.215275</td>\n",
       "      <td>2.389895</td>\n",
       "      <td>1.806986</td>\n",
       "      <td>2.832915</td>\n",
       "      <td>1.908740</td>\n",
       "      <td>2.460303</td>\n",
       "    </tr>\n",
       "  </tbody>\n",
       "</table>\n",
       "</div>"
      ],
      "text/plain": [
       "       GSM1886845  GSM1886846  GSM1886847  GSM1886848  GSM1886849  GSM1886850  \\\n",
       "A1BG     7.432296    7.585719    7.906538    7.114824    7.367192    7.515685   \n",
       "A1CF     2.175147    2.173957    2.468948    2.640235    2.314552    0.883706   \n",
       "A2M      2.175147    1.810731    0.883706    2.877175    0.883706    0.883706   \n",
       "A2ML1    2.657766    3.141300    3.035112    3.985136    3.617270    4.364832   \n",
       "A2MP1    2.175147    2.173957    3.035112    0.883706    0.883706    0.883706   \n",
       "\n",
       "       GSM1886851  GSM1886852  GSM1886853  GSM1886854  GSM1886855  GSM1886856  \\\n",
       "A1BG     8.004349    7.954705    8.058813    7.339749    7.221488    7.498370   \n",
       "A1CF     2.790828    2.669106    1.829498    1.826317    2.815022    2.209561   \n",
       "A2M      2.139604    2.183849    0.883706    1.826317    1.901842    1.837125   \n",
       "A2ML1    2.400114    2.669106    2.689196    3.813224    2.583887    3.751074   \n",
       "A2MP1    3.213892    3.705472    2.874809    0.883706    2.815022    1.837125   \n",
       "\n",
       "       GSM1886857  GSM1886858  GSM1886859  GSM1886860  GSM1886861  GSM1886862  \n",
       "A1BG     7.767352    7.824397    7.482212    7.441895    7.322329    7.604090  \n",
       "A1CF     2.488948    0.883706    2.168899    2.310407    3.193082    0.883706  \n",
       "A2M      2.488948    3.199711    2.168899    3.610595    3.193082    3.233832  \n",
       "A2ML1    3.932969    3.518760    3.261509    4.332729    3.716329    3.414973  \n",
       "A2MP1    2.215275    2.389895    1.806986    2.832915    1.908740    2.460303  "
      ]
     },
     "execution_count": 6,
     "metadata": {},
     "output_type": "execute_result"
    }
   ],
   "source": [
    "# Push the dataset to R\n",
    "%Rpush rawcount_dataframe\n",
    "\n",
    "# Normalize\n",
    "%R vst_dataframe <- as.data.frame(varianceStabilizingTransformation(as.matrix(rawcount_dataframe)))\n",
    "\n",
    "# Pull the dataset from R\n",
    "%Rpull vst_dataframe\n",
    "\n",
    "# Display\n",
    "vst_dataframe.head()"
   ]
  },
  {
   "cell_type": "markdown",
   "metadata": {},
   "source": [
    "## 3. Dimensionality Reduction\n",
    "\n",
    "### 3.1 PCA\n",
    "First, we perform a **Principal Components Analysis** (PCA) on the dataset, reducing it to two or three dimensions.  To achieve this, use the PCA function in the Python package *sklearn* - reference code is available at http://scikit-learn.org/stable/modules/generated/sklearn.decomposition.PCA.html."
   ]
  },
  {
   "cell_type": "code",
   "execution_count": null,
   "metadata": {
    "collapsed": true
   },
   "outputs": [],
   "source": [
    "# Insert code to perform PCA here"
   ]
  },
  {
   "cell_type": "code",
   "execution_count": null,
   "metadata": {
    "collapsed": true
   },
   "outputs": [],
   "source": [
    "# Plot using one of the following functions\n",
    "# plot_2d_scatter(x, y, sample_names)\n",
    "# plot_3d_scatter(x, y, z, sample_names)"
   ]
  },
  {
   "cell_type": "markdown",
   "metadata": {},
   "source": [
    "### 3.2 t-SNE\n",
    "Second, we perform **t-Distributed Stochastic Neighbor Embedding** (t-SNE) on the dataset, reducing it to two or three dimensions.  To achieve this, use the tsne function in the Python package *sklearn* - reference code is available at http://scikit-learn.org/stable/modules/generated/sklearn.manifold.TSNE.html."
   ]
  },
  {
   "cell_type": "code",
   "execution_count": null,
   "metadata": {
    "collapsed": true
   },
   "outputs": [],
   "source": [
    "# Insert code to perform t-SNE here"
   ]
  },
  {
   "cell_type": "code",
   "execution_count": null,
   "metadata": {
    "collapsed": true
   },
   "outputs": [],
   "source": [
    "# Plot using one of the following functions\n",
    "# plot_2d_scatter(x, y, sample_names)\n",
    "# plot_3d_scatter(x, y, z, sample_names)"
   ]
  },
  {
   "cell_type": "markdown",
   "metadata": {},
   "source": [
    "## 4. Clustergrammer\n",
    "Next, we generate an **interactive clustered heatmap** to explore the most variable genes in the dataset.  To achieve this, we use the *Clustergrammer* package - reference code is available at http://clustergrammer.readthedocs.io/clustergrammer_widget.html#clustergrammer-widget-workflow-example."
   ]
  },
  {
   "cell_type": "code",
   "execution_count": null,
   "metadata": {
    "collapsed": true
   },
   "outputs": [],
   "source": [
    "# Insert code to create widget here\n",
    "# Steps: (1) create Network object, (2) load dataframe\n",
    "#        (3) Z-score normalize the rows, (4) filter top 500 genes by variance\n",
    "#        (5) cluster the heatmap, (6) display the widget"
   ]
  },
  {
   "cell_type": "markdown",
   "metadata": {},
   "source": [
    "## 5. Differential Expression Analysis\n",
    "Here we identify **Differentially Expressed Genes** (DEGs) using two approaches: limma and Characteristic Direction.  \n",
    "\n",
    "To achieve this, we need to select two sets of samples:\n",
    "* a group of *experimental / treated samples*\n",
    "* a second group of *control / untreated samples*\n",
    "\n",
    "### 1. limma\n",
    "First, we perform the analysis using the *limma* R package.  Reference here https://bioconductor.org/packages/release/bioc/html/limma.html."
   ]
  },
  {
   "cell_type": "code",
   "execution_count": null,
   "metadata": {
    "collapsed": true
   },
   "outputs": [],
   "source": [
    "# Run limma using a Python wrapper\n",
    "limma_dataframe = compute_signature(rawcount_dataframe,\n",
    "                                    method = 'limma',\n",
    "                                    experimental_samples = , # insert list of experimental sample names\n",
    "                                    control_samples = ,# insert list of control sample names\n",
    "                                    )"
   ]
  },
  {
   "cell_type": "code",
   "execution_count": null,
   "metadata": {},
   "outputs": [],
   "source": [
    "# Explore results\n",
    "limma_dataframe.head()"
   ]
  },
  {
   "cell_type": "markdown",
   "metadata": {},
   "source": [
    "##### Volcano Plot\n",
    "The Volcano plot is a common way to display results of a differential gene expression analysis.  It displays logFC on the x axis and log10(P-value) on the Y axis."
   ]
  },
  {
   "cell_type": "code",
   "execution_count": null,
   "metadata": {
    "collapsed": true
   },
   "outputs": [],
   "source": [
    "plots.plot_2d_scatter(x = limma_dataframe['logFC'],\n",
    "                      y = -np.log10(limma_dataframe['adj.P.Val']),\n",
    "                      text = limma_dataframe.index,\n",
    "                      xlab = 'logFC',\n",
    "                      ylab='-log10(P)')"
   ]
  },
  {
   "cell_type": "markdown",
   "metadata": {},
   "source": [
    "##### MA Plot\n",
    "The MA plot is a second common way to display results of a differential gene expression analysis.  It displays average normalized expression on the x axis and logFC on the Y axis."
   ]
  },
  {
   "cell_type": "code",
   "execution_count": null,
   "metadata": {
    "collapsed": true
   },
   "outputs": [],
   "source": [
    "plots.plot_2d_scatter(x = limma_dataframe['AveExpr'],\n",
    "                      y = limma_dataframe['logFC'],\n",
    "                      text = limma_dataframe.index,\n",
    "                      xlab = 'AveExpr',\n",
    "                      ylab='logFC')"
   ]
  },
  {
   "cell_type": "markdown",
   "metadata": {},
   "source": [
    "### 2. Characteristic Direction\n",
    "Second, we calculate a differential gene expression signature using the *Characteristic Direction* method, which has been shown to outperform other methods to identify DEGs in the context of transcription factor (TF) and drug perturbation responses (Clark et al, 2013, [link](https://bmcbioinformatics.biomedcentral.com/articles/10.1186/1471-2105-15-79))."
   ]
  },
  {
   "cell_type": "code",
   "execution_count": null,
   "metadata": {
    "collapsed": true
   },
   "outputs": [],
   "source": [
    "# Run CD using a Python wrapper\n",
    "cd_dataframe = compute_signature(rawcount_dataframe,\n",
    "                                 method = 'CD',\n",
    "                                 experimental_samples = ['GSM1436351', 'GSM1436352'], # insert list of experimental sample names\n",
    "                                 control_samples = ['GSM1436353', 'GSM1436354'],# insert list of control sample names\n",
    "                                 )"
   ]
  },
  {
   "cell_type": "code",
   "execution_count": null,
   "metadata": {},
   "outputs": [],
   "source": [
    "# Explore results\n",
    "cd_dataframe.head()"
   ]
  },
  {
   "cell_type": "markdown",
   "metadata": {},
   "source": [
    "## 6. Enrichment Analysis\n",
    "We now use the differential gene expression signature computed with CD and perform **enrichment analysis** on the top most overexpressed and underexpressed genes using the *Enrichr* API.\n",
    "\n",
    "Reference on how to use the API in Python here http://amp.pharm.mssm.edu/Enrichr/help#api."
   ]
  },
  {
   "cell_type": "code",
   "execution_count": null,
   "metadata": {},
   "outputs": [],
   "source": [
    "# Write code to upload gene lists to the Enrichr API\n",
    "# Steps: (1) sort the genes by the CD value, (2) take the top 500 top and bottom genes,\n",
    "# (3) perform POST request as shown in the manual."
   ]
  },
  {
   "cell_type": "markdown",
   "metadata": {},
   "source": [
    "## 7. Small Molecole Query\n",
    "Finally, we use the differential gene expression signature computed with CD to identify **small molecules which mimic or reverse** the observed pattern using the *L1000CDS<sup>2</sup>* API.\n",
    "\n",
    "Reference on how to use the API in Python here http://amp.pharm.mssm.edu/L1000CDS2/help/#api."
   ]
  },
  {
   "cell_type": "code",
   "execution_count": null,
   "metadata": {
    "collapsed": true
   },
   "outputs": [],
   "source": [
    "# Write code to upload signature to L1000CDS2 API\n",
    "### \"Gene-set search\" \n",
    "# Steps: (1) sort the genes by the CD value, (2) take the top 500 top and bottom genes,\n",
    "# (3) perform POST request as shown in the manual (gene-set search example)."
   ]
  }
 ],
 "metadata": {
  "kernelspec": {
   "display_name": "Python 2",
   "language": "python",
   "name": "python2"
  },
  "language_info": {
   "codemirror_mode": {
    "name": "ipython",
    "version": 2
   },
   "file_extension": ".py",
   "mimetype": "text/x-python",
   "name": "python",
   "nbconvert_exporter": "python",
   "pygments_lexer": "ipython2",
   "version": "2.7.10"
  }
 },
 "nbformat": 4,
 "nbformat_minor": 2
}
