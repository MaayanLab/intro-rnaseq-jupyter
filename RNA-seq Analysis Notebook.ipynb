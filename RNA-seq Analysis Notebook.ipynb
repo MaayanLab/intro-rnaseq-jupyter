{
 "cells": [
  {
   "cell_type": "markdown",
   "metadata": {
    "collapsed": true
   },
   "source": [
    "# RNA-seq Analysis Notebook\n",
    "## Overview\n",
    "This notebook contains a guided walkthrough to building a simple pipeline for analysis of an RNA-seq dataset.\n",
    "\n",
    "The pipeline described here consists of the following steps:\n",
    "1. **Download** an RNA-seq dataset (ARCHS4)\n",
    "2. **Normalize expression** data (Variance Stabilizing Transformation)\n",
    "3. Perform **Dimensionality Reduction** (PCA and t-SNE)\n",
    "4. Visualize the dataset as a **clustered heatmap** (Clustergrammer)\n",
    "5. Perform **Differential Gene Expression Analysis** (limma and CD)\n",
    "6. Perform **Enrichment analysis** (Enrichr)\n",
    "\n",
    "## Load Packages"
   ]
  },
  {
   "cell_type": "code",
   "execution_count": null,
   "metadata": {
    "collapsed": true
   },
   "outputs": [],
   "source": [
    "%%capture\n",
    "# Python packages\n",
    "import sys\n",
    "import rpy2\n",
    "import numpy as np\n",
    "from plotly.offline import init_notebook_mode\n",
    "\n",
    "# Initialize Plotly and R magic\n",
    "%load_ext rpy2.ipython\n",
    "%R require(DESeq2)\n",
    "%R require(limma)\n",
    "\n",
    "# Custom scripts\n",
    "sys.path.append('scripts')\n",
    "import archs4\n",
    "from plots import *\n",
    "from signature import *"
   ]
  },
  {
   "cell_type": "markdown",
   "metadata": {},
   "source": [
    "## 1. Download RNA-seq Dataset\n",
    "Here we download RNA-seq datasets processed by ARCHS4.\n",
    "\n",
    "The following datasets are suggested:\n",
    "* *Homo sapiens* datasets:\n",
    "    * **Nucleotide stress induction of HEXIM1 suppresses melanoma by modulating cancer cell-specific gene transcription** (GSE68053_GPL16791)\n",
    "    * **Potent and targeted activation of HIV-1 using the CRISPR/Cas9 activator Complex** (GSE72259_GPL16791)\n",
    "    * **EZH2 and BCL6 cooperate to assemble CBX8-BCOR Polycomb complex to repress bivalent promoters, mediate germinal center formation and promote lymphomagenesis** (GSE73109_GPL11154)\n",
    "    \n",
    "   \n",
    "* *Mus musculus* datasets:\n",
    "    * **HEB associates with PRC2 and SMAD2/3 to regulate developmental fates** (GSE60285_GPL13112)\n",
    "    * **Transcriptomic signatures uncover gene expression differences associated with the development of phenotypic differences in serial organs** (GSE76316_GPL13112)\n",
    "    * **OSKM induce extraembryonic endoderm stem (iXEN) cells in parallel to iPS cells** (GSE77550_GPL17021)\n",
    "\n",
    "A full list of datasets processed by ARCHS4 is available in the *archs4_datasets.txt* file."
   ]
  },
  {
   "cell_type": "code",
   "execution_count": null,
   "metadata": {
    "collapsed": true
   },
   "outputs": [],
   "source": [
    "# Fetch dataset from ARCHS4 server.  Insert code specified in brackets to extract specified dataset\n",
    "rawcount_dataframe, sample_metadata_dataframe = archs4.fetch_dataset('GSE76316_GPL13112')"
   ]
  },
  {
   "cell_type": "code",
   "execution_count": null,
   "metadata": {
    "collapsed": true
   },
   "outputs": [],
   "source": [
    "# Display the raw readcount dataframe\n",
    "rawcount_dataframe.head()"
   ]
  },
  {
   "cell_type": "code",
   "execution_count": null,
   "metadata": {
    "collapsed": true
   },
   "outputs": [],
   "source": [
    "# Display the sample metadata dataframe\n",
    "sample_metadata_dataframe"
   ]
  },
  {
   "cell_type": "markdown",
   "metadata": {},
   "source": [
    "## 2. Normalization\n",
    "\n",
    "Before proceeding with the analysis, we normalize the raw readcount dataset using the **Variance Stabilizing Transformation** (VST) method, from the *DESeq2* package in R."
   ]
  },
  {
   "cell_type": "code",
   "execution_count": null,
   "metadata": {
    "collapsed": true,
    "scrolled": false
   },
   "outputs": [],
   "source": [
    "# Push the dataset to R\n",
    "%Rpush rawcount_dataframe\n",
    "\n",
    "# Normalize\n",
    "%R vst_dataframe <- as.data.frame(varianceStabilizingTransformation(as.matrix(rawcount_dataframe)))\n",
    "\n",
    "# Pull the dataset from R\n",
    "%Rpull vst_dataframe\n",
    "\n",
    "# Display\n",
    "vst_dataframe.head()"
   ]
  },
  {
   "cell_type": "markdown",
   "metadata": {},
   "source": [
    "## 3. Dimensionality Reduction\n",
    "\n",
    "### 3.1 PCA\n",
    "First, we perform a **Principal Components Analysis** (PCA) on the dataset, reducing it to two or three dimensions.  To achieve this, use the PCA function in the Python package *sklearn* - reference code is available at http://scikit-learn.org/stable/modules/generated/sklearn.decomposition.PCA.html."
   ]
  },
  {
   "cell_type": "code",
   "execution_count": null,
   "metadata": {
    "collapsed": true
   },
   "outputs": [],
   "source": [
    "# Activate Plotly\n",
    "init_notebook_mode()\n",
    "\n",
    "# Insert code to perform PCA here"
   ]
  },
  {
   "cell_type": "code",
   "execution_count": null,
   "metadata": {
    "collapsed": true
   },
   "outputs": [],
   "source": [
    "# Plot using one of the following functions\n",
    "# plot_2d_scatter(x, y, sample_names)\n",
    "# plot_3d_scatter(x, y, z, sample_names)"
   ]
  },
  {
   "cell_type": "markdown",
   "metadata": {},
   "source": [
    "### 3.2 t-SNE\n",
    "Second, we perform **t-Distributed Stochastic Neighbor Embedding** (t-SNE) on the dataset, reducing it to two or three dimensions.  To achieve this, use the tsne function in the Python package *sklearn* - reference code is available at http://scikit-learn.org/stable/modules/generated/sklearn.manifold.TSNE.html."
   ]
  },
  {
   "cell_type": "code",
   "execution_count": null,
   "metadata": {
    "collapsed": true
   },
   "outputs": [],
   "source": [
    "# Insert code to perform t-SNE here"
   ]
  },
  {
   "cell_type": "code",
   "execution_count": null,
   "metadata": {
    "collapsed": true
   },
   "outputs": [],
   "source": [
    "# Plot using one of the following functions\n",
    "# plot_2d_scatter(x, y, sample_names)\n",
    "# plot_3d_scatter(x, y, z, sample_names)"
   ]
  },
  {
   "cell_type": "markdown",
   "metadata": {},
   "source": [
    "## 4. Clustergrammer\n",
    "Next, we generate an **interactive clustered heatmap** to explore the most variable genes in the dataset.  To achieve this, we use the *Clustergrammer* package - reference code is available at http://clustergrammer.readthedocs.io/clustergrammer_widget.html#clustergrammer-widget-workflow-example."
   ]
  },
  {
   "cell_type": "code",
   "execution_count": null,
   "metadata": {
    "collapsed": true
   },
   "outputs": [],
   "source": [
    "# Insert code to create widget here\n",
    "# Steps: (1) create Network object, (2) load dataframe\n",
    "#        (3) Z-score normalize the rows, (4) filter top 500 genes by variance\n",
    "#        (5) cluster the heatmap, (6) display the widget"
   ]
  },
  {
   "cell_type": "markdown",
   "metadata": {},
   "source": [
    "## 5. Differential Expression Analysis\n",
    "Here we identify **Differentially Expressed Genes** (DEGs) using two approaches: limma and Characteristic Direction.  \n",
    "\n",
    "To achieve this, we need to select two sets of samples:\n",
    "* a group of *experimental / treated samples*\n",
    "* a second group of *control / untreated samples*\n",
    "\n",
    "### 1. limma\n",
    "First, we perform the analysis using the *limma* R package.  Reference here https://bioconductor.org/packages/release/bioc/html/limma.html."
   ]
  },
  {
   "cell_type": "code",
   "execution_count": null,
   "metadata": {
    "collapsed": true
   },
   "outputs": [],
   "source": [
    "# Run limma using a Python wrapper\n",
    "limma_dataframe = compute_signature(rawcount_dataframe,\n",
    "                                    method = 'limma',\n",
    "                                    experimental_samples = [], # insert list of experimental sample names\n",
    "                                    control_samples = [],# insert list of control sample names\n",
    "                                    )"
   ]
  },
  {
   "cell_type": "code",
   "execution_count": null,
   "metadata": {
    "collapsed": true
   },
   "outputs": [],
   "source": [
    "# Explore results\n",
    "limma_dataframe.head()"
   ]
  },
  {
   "cell_type": "markdown",
   "metadata": {},
   "source": [
    "##### Volcano Plot\n",
    "The Volcano plot is a common way to display results of a differential gene expression analysis.  It displays logFC on the x axis and log10(P-value) on the Y axis."
   ]
  },
  {
   "cell_type": "code",
   "execution_count": null,
   "metadata": {
    "collapsed": true
   },
   "outputs": [],
   "source": [
    "plot_2d_scatter(x = ,\n",
    "                y =,\n",
    "                text = ,\n",
    "                xlab = ,\n",
    "                ylab=)"
   ]
  },
  {
   "cell_type": "markdown",
   "metadata": {},
   "source": [
    "##### MA Plot\n",
    "The MA plot is a second common way to display results of a differential gene expression analysis.  It displays average normalized expression on the x axis and logFC on the Y axis."
   ]
  },
  {
   "cell_type": "code",
   "execution_count": null,
   "metadata": {
    "collapsed": true
   },
   "outputs": [],
   "source": [
    "plot_2d_scatter(x = ,\n",
    "                y =,\n",
    "                text = ,\n",
    "                xlab = ,\n",
    "                ylab=)"
   ]
  },
  {
   "cell_type": "markdown",
   "metadata": {},
   "source": [
    "### 2. Characteristic Direction\n",
    "Second, we calculate a differential gene expression signature using the *Characteristic Direction* method, which has been shown to outperform other methods to identify DEGs in the context of transcription factor (TF) and drug perturbation responses (Clark et al, 2013, [link](https://bmcbioinformatics.biomedcentral.com/articles/10.1186/1471-2105-15-79))."
   ]
  },
  {
   "cell_type": "code",
   "execution_count": null,
   "metadata": {
    "collapsed": true
   },
   "outputs": [],
   "source": [
    "# Run CD using a Python wrapper\n",
    "cd_dataframe = compute_signature(rawcount_dataframe,\n",
    "                                 method = 'CD',\n",
    "                                 experimental_samples = [], # insert list of experimental sample names\n",
    "                                 control_samples = [],# insert list of control sample names\n",
    "                                 )"
   ]
  },
  {
   "cell_type": "code",
   "execution_count": null,
   "metadata": {
    "collapsed": true
   },
   "outputs": [],
   "source": [
    "# Explore results\n",
    "cd_dataframe.head()"
   ]
  },
  {
   "cell_type": "markdown",
   "metadata": {},
   "source": [
    "## 6. Enrichment Analysis\n",
    "We now use the differential gene expression signature computed with CD and perform **enrichment analysis** on the top most overexpressed and underexpressed genes using the *Enrichr* API.\n",
    "\n",
    "Reference on how to use the API in Python here http://amp.pharm.mssm.edu/Enrichr/help#api."
   ]
  },
  {
   "cell_type": "code",
   "execution_count": null,
   "metadata": {
    "collapsed": true
   },
   "outputs": [],
   "source": [
    "# Write code to upload gene lists to the Enrichr API\n",
    "# Steps: (1) sort the genes by the CD value, (2) take the top 500 top and bottom genes,\n",
    "# (3) perform POST request as shown in the manual."
   ]
  },
  {
   "cell_type": "markdown",
   "metadata": {},
   "source": [
    "Once the gene list has been submitted, you can view the enrichment results by appending the 'shortId' at the end of the following URL: http://amp.pharm.mssm.edu/Enrichr/enrich?dataset=."
   ]
  },
  {
   "cell_type": "markdown",
   "metadata": {},
   "source": [
    "## 7. Small Molecole Query\n",
    "Finally, we use the differential gene expression signature computed with CD to identify **small molecules which mimic or reverse** the observed pattern using the *L1000CDS<sup>2</sup>* API.\n",
    "\n",
    "Reference on how to use the API in Python here http://amp.pharm.mssm.edu/L1000CDS2/help/#api."
   ]
  },
  {
   "cell_type": "code",
   "execution_count": null,
   "metadata": {
    "collapsed": true
   },
   "outputs": [],
   "source": [
    "# Write code to upload signature to L1000CDS2 API\n",
    "### \"Gene-set search\" \n",
    "# Steps: (1) sort the genes by the CD value, (2) take the top 500 top and bottom genes,\n",
    "# (3) perform POST request as shown in the manual (gene-set search example)."
   ]
  },
  {
   "cell_type": "markdown",
   "metadata": {},
   "source": [
    "Once the gene list has been submitted, you can view the results by appending the 'shareId' at the end of the following URL: http://amp.pharm.mssm.edu/L1000CDS2/#/result/."
   ]
  }
 ],
 "metadata": {
  "kernelspec": {
   "display_name": "Python 2",
   "language": "python",
   "name": "python2"
  },
  "language_info": {
   "codemirror_mode": {
    "name": "ipython",
    "version": 2
   },
   "file_extension": ".py",
   "mimetype": "text/x-python",
   "name": "python",
   "nbconvert_exporter": "python",
   "pygments_lexer": "ipython2",
   "version": "2.7.10"
  }
 },
 "nbformat": 4,
 "nbformat_minor": 2
}
